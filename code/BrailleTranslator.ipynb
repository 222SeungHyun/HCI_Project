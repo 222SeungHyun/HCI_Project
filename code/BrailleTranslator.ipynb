{
 "cells": [
  {
   "attachments": {},
   "cell_type": "markdown",
   "metadata": {},
   "source": [
    "### Library Import\n",
    "코드를 실행하기 위한 모든 라이브러리들 import 과정"
   ]
  },
  {
   "cell_type": "code",
   "execution_count": 192,
   "metadata": {},
   "outputs": [],
   "source": [
    "import tensorflow as tf\n",
    "import datetime\n",
    "import os\n",
    "import operator\n",
    "import shutil\n",
    "\n",
    "from tensorflow.keras import backend as K\n",
    "from tensorflow.keras import layers as L\n",
    "from tensorflow.keras.models import Model, load_model\n",
    "from tensorflow.keras.regularizers import l2\n",
    "from tensorflow.keras.callbacks import ModelCheckpoint, ReduceLROnPlateau, EarlyStopping\n",
    "from tensorflow.keras.preprocessing.image import ImageDataGenerator, img_to_array, load_img\n",
    "\n",
    "import matplotlib.pyplot as plt\n",
    "import numpy as np\n",
    "from PIL import Image"
   ]
  },
  {
   "attachments": {},
   "cell_type": "markdown",
   "metadata": {},
   "source": [
    "### Environment Variables\n",
    "환경변수들"
   ]
  },
  {
   "cell_type": "code",
   "execution_count": 210,
   "metadata": {},
   "outputs": [],
   "source": [
    "# resize할 크기\n",
    "image_size = 36\n",
    "\n",
    "# 한개의 element당 생성할 data 개수\n",
    "data_size = 128\n",
    "\n",
    "# data 경로\n",
    "data_path = os.getcwd() + '/../data/'\n",
    "\n",
    "# element들을 저장할 경로\n",
    "element_path = data_path + 'alphebet/'\n",
    "\n",
    "# example이 존재하는 경로\n",
    "example_path = data_path + 'ex/'\n",
    "\n",
    "# checkpoint 경로\n",
    "model_path = './ckpt.h5'"
   ]
  },
  {
   "attachments": {},
   "cell_type": "markdown",
   "metadata": {},
   "source": [
    "### Create Folder\n",
    "폴더를 생성해주는 함수"
   ]
  },
  {
   "cell_type": "code",
   "execution_count": 211,
   "metadata": {},
   "outputs": [
    {
     "name": "stdout",
     "output_type": "stream",
     "text": [
      "2.12.0\n",
      "/Users/naburang/Desktop/Metal/tensorflow_venv.nosync/code\n",
      "/Users/naburang/Desktop/Metal/tensorflow_venv.nosync/code/../data/\n",
      "['a.png', 'b.png', 'c.png', 'd.png', 'e.png', 'f.png', 'g.png', 'h.png', 'i.png', 'j.png', 'k.png', 'l.png', 'm.png', 'n.png', 'o.png', 'p.png', 'q.png', 'r.png', 's.png', 't.png', 'u.png', 'v.png', 'w.png', 'x.png', 'y.png', 'z.png', 'zz.png']\n"
     ]
    }
   ],
   "source": [
    "def create_folder(directory):\n",
    "      if not os.path.exists(directory):\n",
    "          os.makedirs(directory)\n",
    "          return True\n",
    "      return False\n",
    "\n",
    "create_folder(element_path)\n",
    "elements = os.listdir(example_path)\n",
    "elements.sort()\n",
    "\n",
    "print(tf.__version__)\n",
    "print(os.getcwd())\n",
    "print(data_path)\n",
    "print(elements)"
   ]
  },
  {
   "attachments": {},
   "cell_type": "markdown",
   "metadata": {},
   "source": [
    "### 데이터 늘리기\n",
    "약간의 위치변화 혹은 회전을 통한 데이터 늘리는 과정"
   ]
  },
  {
   "cell_type": "code",
   "execution_count": 213,
   "metadata": {},
   "outputs": [
    {
     "name": "stdout",
     "output_type": "stream",
     "text": [
      "0 zz.png /Users/naburang/Desktop/Metal/tensorflow_venv.nosync/code/../data/alphebet/zz\n",
      "1 zz.png /Users/naburang/Desktop/Metal/tensorflow_venv.nosync/code/../data/alphebet/zz\n",
      "2 zz.png /Users/naburang/Desktop/Metal/tensorflow_venv.nosync/code/../data/alphebet/zz\n",
      "3 zz.png /Users/naburang/Desktop/Metal/tensorflow_venv.nosync/code/../data/alphebet/zz\n",
      "4 zz.png /Users/naburang/Desktop/Metal/tensorflow_venv.nosync/code/../data/alphebet/zz\n",
      "5 zz.png /Users/naburang/Desktop/Metal/tensorflow_venv.nosync/code/../data/alphebet/zz\n",
      "6 zz.png /Users/naburang/Desktop/Metal/tensorflow_venv.nosync/code/../data/alphebet/zz\n",
      "7 zz.png /Users/naburang/Desktop/Metal/tensorflow_venv.nosync/code/../data/alphebet/zz\n",
      "8 zz.png /Users/naburang/Desktop/Metal/tensorflow_venv.nosync/code/../data/alphebet/zz\n",
      "9 zz.png /Users/naburang/Desktop/Metal/tensorflow_venv.nosync/code/../data/alphebet/zz\n"
     ]
    }
   ],
   "source": [
    "datagen = ImageDataGenerator(\n",
    "        rotation_range=15,\n",
    "        width_shift_range=0.15,\n",
    "        height_shift_range=0.15,\n",
    "        shear_range=0.1,\n",
    "        zoom_range=0.1,\n",
    "        fill_mode='constant',\n",
    "        cval=255)\n",
    "\n",
    "\n",
    "for i in elements:\n",
    "    element = i.split('.')[0]\n",
    "\n",
    "    # 폴더가 존재할 경우 파일 생성X\n",
    "    if not create_folder(element_path + element):\n",
    "       continue\n",
    "    \n",
    "    # 에시 파일읽기\n",
    "    image = load_img(example_path + i)\n",
    "    x = img_to_array(image)                 # image to array\n",
    "    x = x.reshape((1,) + x.shape)           # reshape array\n",
    "    \n",
    "    if i == 'zz.png':\n",
    "      for _ in range(10):\n",
    "        path = element_path + element\n",
    "        print(_, i, path)\n",
    "        shutil.copy(example_path + i,\n",
    "                    path + '/' + element + str(_)+'.jpg')\n",
    "    else:  \n",
    "      i = 0\n",
    "\n",
    "      # save image\n",
    "      for batch in datagen.flow(x, batch_size=1,\n",
    "                                save_to_dir=element_path + element, \n",
    "                                save_prefix=element, \n",
    "                                save_format='jpg'):\n",
    "          i += 1\n",
    "          if i > (data_size / 4) * 5:\n",
    "              break"
   ]
  },
  {
   "attachments": {},
   "cell_type": "markdown",
   "metadata": {},
   "source": [
    "### Load Data"
   ]
  },
  {
   "cell_type": "code",
   "execution_count": 214,
   "metadata": {},
   "outputs": [],
   "source": [
    "def load_data(size):\n",
    "    # data reader\n",
    "    datagen = ImageDataGenerator(rotation_range=10,\n",
    "                                 shear_range=5,\n",
    "                                 validation_split=0.2)\n",
    "    \n",
    "    # train data\n",
    "    train_generator = datagen.flow_from_directory(element_path,\n",
    "                                                  target_size=(size,size),\n",
    "                                                  subset='training')\n",
    "    \n",
    "    # validation data\n",
    "    val_generator = datagen.flow_from_directory(element_path,\n",
    "                                                target_size=(size,size),\n",
    "                                                subset='validation')\n",
    "    return train_generator, val_generator"
   ]
  },
  {
   "attachments": {},
   "cell_type": "markdown",
   "metadata": {},
   "source": [
    "### Make Model"
   ]
  },
  {
   "cell_type": "code",
   "execution_count": 225,
   "metadata": {},
   "outputs": [],
   "source": [
    "def make_model(train, val, class_count, size = 36):\n",
    "    K.clear_session()\n",
    "\n",
    "    model_ckpt = ModelCheckpoint(model_path, save_best_only=True)\n",
    "    reduce_lr = ReduceLROnPlateau(patience=8, verbose=1)\n",
    "    early_stop = EarlyStopping(patience=20, verbose=2)\n",
    "\n",
    "    entry = L.Input(shape=(size,size,3))\n",
    "    x = L.SeparableConv2D(64,(3,3),activation='relu',padding ='same')(entry)\n",
    "    x = L.MaxPooling2D((2,2))(x)\n",
    "\n",
    "    x = L.SeparableConv2D(128,(3,3),activation='relu',padding ='same')(x)\n",
    "    x = L.MaxPooling2D((2,2))(x)\n",
    "\n",
    "    x = L.SeparableConv2D(256,(2,2),activation='relu',padding ='same')(x)\n",
    "    x = L.GlobalMaxPooling2D()(x)\n",
    "\n",
    "    x = L.Dense(256)(x)\n",
    "    x = L.LeakyReLU()(x)\n",
    "    x = L.Dense(64,kernel_regularizer=l2(2e-4))(x)\n",
    "    x = L.LeakyReLU()(x)\n",
    "    x = L.Dense(class_count,activation='softmax')(x)\n",
    "\n",
    "    model = Model(entry,x)\n",
    "    model.compile(loss='categorical_crossentropy', \n",
    "                  optimizer='adam',\n",
    "                  metrics=['accuracy'])\n",
    "\n",
    "    history = model.fit(train,\n",
    "                        validation_data=val,\n",
    "                        epochs=999,\n",
    "                        batch_size=128,\n",
    "                        callbacks=[model_ckpt, reduce_lr, early_stop],\n",
    "                        verbose=1)\n",
    "    return history"
   ]
  },
  {
   "attachments": {},
   "cell_type": "markdown",
   "metadata": {},
   "source": [
    "### Show Losses\n",
    "학습 과정에서의 loss 그래프 출력"
   ]
  },
  {
   "cell_type": "code",
   "execution_count": 226,
   "metadata": {},
   "outputs": [],
   "source": [
    "def show_losses(hist):\n",
    "    _, loss_ax = plt.subplots(figsize=(10, 5))\n",
    "    acc_ax = loss_ax.twinx()\n",
    "    \n",
    "    loss_ax.plot(hist.history['loss'], 'y', label='train loss')\n",
    "    loss_ax.plot(hist.history['val_loss'], 'r', label='val loss')\n",
    "    acc_ax.plot(hist.history['accuracy'], 'b', label='train acc')\n",
    "    acc_ax.plot(hist.history['val_accuracy'], 'g', label='val acc')\n",
    "    \n",
    "    loss_ax.set_xlabel('epoch')\n",
    "    loss_ax.set_ylabel('loss')\n",
    "    acc_ax.set_ylabel('accuray')\n",
    "    loss_ax.legend(loc='upper left')\n",
    "    acc_ax.legend(loc='lower left')"
   ]
  },
  {
   "attachments": {},
   "cell_type": "markdown",
   "metadata": {},
   "source": [
    "### Divide Image\n",
    "이미지 쪼개기"
   ]
  },
  {
   "cell_type": "code",
   "execution_count": 227,
   "metadata": {},
   "outputs": [],
   "source": [
    "def divide_image(img_name):\n",
    "    # open image\n",
    "    image = Image.open(data_path + img_name)\n",
    "    \n",
    "    # image width, height 구학기\n",
    "    width, height = image.size[0], image.size[1]\n",
    "\n",
    "    # 총 글자 길이 구하기\n",
    "    length = int(width / height)\n",
    "\n",
    "    # 폴더 생성\n",
    "    create_folder(data_path + 'tmp/')\n",
    "    \n",
    "    for i in range(length):\n",
    "        # 범위 지정\n",
    "        area = (0 + i * height, 0,\n",
    "                width / length * (i + 1), height)\n",
    "        \n",
    "        path = data_path + 'tmp/' + str(i) + '/data/'\n",
    "        create_folder(path)\n",
    "        cropped_img = image.crop(area)\n",
    "        cropped_img.save(path + str(i) + '.png')        # 쪼갠 이미지 저장\n",
    "\n",
    "    return length"
   ]
  },
  {
   "attachments": {},
   "cell_type": "markdown",
   "metadata": {},
   "source": [
    "### Remove Temporary Images\n",
    "임시로 생성된 이미지 제거"
   ]
  },
  {
   "cell_type": "code",
   "execution_count": 228,
   "metadata": {},
   "outputs": [],
   "source": [
    "def remove_tmp_imgs():\n",
    "    try:\n",
    "        shutil.rmtree(data_path + 'tmp')\n",
    "    except:\n",
    "        print('Warning: failed to delete temporary splited images')"
   ]
  },
  {
   "attachments": {},
   "cell_type": "markdown",
   "metadata": {},
   "source": [
    "### Model Train"
   ]
  },
  {
   "cell_type": "code",
   "execution_count": 229,
   "metadata": {},
   "outputs": [
    {
     "name": "stdout",
     "output_type": "stream",
     "text": [
      "Found 3338 images belonging to 27 classes.\n",
      "Found 824 images belonging to 27 classes.\n",
      "Could not find checkpoint, creating new model\n",
      "Epoch 1/999\n"
     ]
    },
    {
     "name": "stderr",
     "output_type": "stream",
     "text": [
      "2023-06-02 22:07:40.444163: I tensorflow/core/common_runtime/executor.cc:1197] [/device:CPU:0] (DEBUG INFO) Executor start aborting (this does not indicate an error and you can ignore this message): INVALID_ARGUMENT: You must feed a value for placeholder tensor 'Placeholder/_0' with dtype int32\n",
      "\t [[{{node Placeholder/_0}}]]\n",
      "2023-06-02 22:07:42.589749: I tensorflow/core/grappler/optimizers/custom_graph_optimizer_registry.cc:114] Plugin optimizer for device_type GPU is enabled.\n"
     ]
    },
    {
     "name": "stdout",
     "output_type": "stream",
     "text": [
      "105/105 [==============================] - ETA: 0s - loss: 3.2832 - accuracy: 0.0521"
     ]
    },
    {
     "name": "stderr",
     "output_type": "stream",
     "text": [
      "2023-06-02 22:08:01.414699: I tensorflow/core/common_runtime/executor.cc:1197] [/device:CPU:0] (DEBUG INFO) Executor start aborting (this does not indicate an error and you can ignore this message): INVALID_ARGUMENT: You must feed a value for placeholder tensor 'Placeholder/_0' with dtype int32\n",
      "\t [[{{node Placeholder/_0}}]]\n",
      "2023-06-02 22:08:01.678924: I tensorflow/core/grappler/optimizers/custom_graph_optimizer_registry.cc:114] Plugin optimizer for device_type GPU is enabled.\n"
     ]
    },
    {
     "name": "stdout",
     "output_type": "stream",
     "text": [
      "105/105 [==============================] - 23s 176ms/step - loss: 3.2832 - accuracy: 0.0521 - val_loss: 3.0513 - val_accuracy: 0.0825 - lr: 0.0010\n",
      "Epoch 2/999\n",
      "105/105 [==============================] - 16s 155ms/step - loss: 2.4127 - accuracy: 0.1911 - val_loss: 1.8786 - val_accuracy: 0.3337 - lr: 0.0010\n",
      "Epoch 3/999\n",
      "105/105 [==============================] - 17s 161ms/step - loss: 1.4460 - accuracy: 0.4554 - val_loss: 0.9823 - val_accuracy: 0.6056 - lr: 0.0010\n",
      "Epoch 4/999\n",
      "105/105 [==============================] - 18s 169ms/step - loss: 0.7851 - accuracy: 0.7187 - val_loss: 0.5986 - val_accuracy: 0.7985 - lr: 0.0010\n",
      "Epoch 5/999\n",
      "105/105 [==============================] - 18s 168ms/step - loss: 0.3443 - accuracy: 0.8999 - val_loss: 0.4061 - val_accuracy: 0.8677 - lr: 0.0010\n",
      "Epoch 6/999\n",
      "105/105 [==============================] - 18s 172ms/step - loss: 0.2589 - accuracy: 0.9254 - val_loss: 0.1536 - val_accuracy: 0.9563 - lr: 0.0010\n",
      "Epoch 7/999\n",
      "105/105 [==============================] - 18s 170ms/step - loss: 0.1692 - accuracy: 0.9563 - val_loss: 0.1503 - val_accuracy: 0.9575 - lr: 0.0010\n",
      "Epoch 8/999\n",
      "105/105 [==============================] - 18s 175ms/step - loss: 0.2048 - accuracy: 0.9407 - val_loss: 0.2206 - val_accuracy: 0.9333 - lr: 0.0010\n",
      "Epoch 9/999\n",
      "105/105 [==============================] - 20s 190ms/step - loss: 0.1342 - accuracy: 0.9685 - val_loss: 0.1063 - val_accuracy: 0.9769 - lr: 0.0010\n",
      "Epoch 10/999\n",
      "105/105 [==============================] - 19s 181ms/step - loss: 0.0842 - accuracy: 0.9832 - val_loss: 0.0949 - val_accuracy: 0.9745 - lr: 0.0010\n",
      "Epoch 11/999\n",
      "105/105 [==============================] - 19s 182ms/step - loss: 0.1137 - accuracy: 0.9730 - val_loss: 0.0954 - val_accuracy: 0.9782 - lr: 0.0010\n",
      "Epoch 12/999\n",
      "105/105 [==============================] - 18s 172ms/step - loss: 0.0662 - accuracy: 0.9856 - val_loss: 0.0840 - val_accuracy: 0.9830 - lr: 0.0010\n",
      "Epoch 13/999\n",
      "105/105 [==============================] - 17s 163ms/step - loss: 0.0868 - accuracy: 0.9766 - val_loss: 0.1144 - val_accuracy: 0.9709 - lr: 0.0010\n",
      "Epoch 14/999\n",
      "105/105 [==============================] - 16s 154ms/step - loss: 0.0925 - accuracy: 0.9763 - val_loss: 0.1459 - val_accuracy: 0.9575 - lr: 0.0010\n",
      "Epoch 15/999\n",
      "105/105 [==============================] - 16s 153ms/step - loss: 0.0812 - accuracy: 0.9814 - val_loss: 0.0982 - val_accuracy: 0.9769 - lr: 0.0010\n",
      "Epoch 16/999\n",
      "105/105 [==============================] - 16s 153ms/step - loss: 0.0869 - accuracy: 0.9763 - val_loss: 0.0916 - val_accuracy: 0.9782 - lr: 0.0010\n",
      "Epoch 17/999\n",
      "105/105 [==============================] - 17s 158ms/step - loss: 0.0671 - accuracy: 0.9832 - val_loss: 0.0735 - val_accuracy: 0.9769 - lr: 0.0010\n",
      "Epoch 18/999\n",
      "105/105 [==============================] - 17s 162ms/step - loss: 0.0618 - accuracy: 0.9874 - val_loss: 0.0511 - val_accuracy: 0.9867 - lr: 0.0010\n",
      "Epoch 19/999\n",
      "105/105 [==============================] - 17s 159ms/step - loss: 0.0424 - accuracy: 0.9934 - val_loss: 0.0464 - val_accuracy: 0.9915 - lr: 0.0010\n",
      "Epoch 20/999\n",
      "105/105 [==============================] - 17s 161ms/step - loss: 0.0391 - accuracy: 0.9937 - val_loss: 0.0778 - val_accuracy: 0.9782 - lr: 0.0010\n",
      "Epoch 21/999\n",
      "105/105 [==============================] - 17s 159ms/step - loss: 0.0817 - accuracy: 0.9787 - val_loss: 0.0664 - val_accuracy: 0.9867 - lr: 0.0010\n",
      "Epoch 22/999\n",
      "105/105 [==============================] - 17s 159ms/step - loss: 0.0578 - accuracy: 0.9877 - val_loss: 0.0668 - val_accuracy: 0.9842 - lr: 0.0010\n",
      "Epoch 23/999\n",
      "105/105 [==============================] - 17s 162ms/step - loss: 0.0543 - accuracy: 0.9892 - val_loss: 0.0402 - val_accuracy: 0.9939 - lr: 0.0010\n",
      "Epoch 24/999\n",
      "105/105 [==============================] - 17s 165ms/step - loss: 0.0435 - accuracy: 0.9931 - val_loss: 0.0956 - val_accuracy: 0.9757 - lr: 0.0010\n",
      "Epoch 25/999\n",
      "105/105 [==============================] - 18s 168ms/step - loss: 0.0646 - accuracy: 0.9853 - val_loss: 0.0545 - val_accuracy: 0.9927 - lr: 0.0010\n",
      "Epoch 26/999\n",
      "105/105 [==============================] - 18s 169ms/step - loss: 0.0518 - accuracy: 0.9898 - val_loss: 0.0421 - val_accuracy: 0.9915 - lr: 0.0010\n",
      "Epoch 27/999\n",
      "105/105 [==============================] - 17s 159ms/step - loss: 0.0340 - accuracy: 0.9955 - val_loss: 0.0588 - val_accuracy: 0.9927 - lr: 0.0010\n",
      "Epoch 28/999\n",
      "105/105 [==============================] - 16s 156ms/step - loss: 0.0401 - accuracy: 0.9940 - val_loss: 0.0439 - val_accuracy: 0.9903 - lr: 0.0010\n",
      "Epoch 29/999\n",
      "105/105 [==============================] - 16s 152ms/step - loss: 0.0326 - accuracy: 0.9958 - val_loss: 0.0394 - val_accuracy: 0.9939 - lr: 0.0010\n",
      "Epoch 30/999\n",
      "105/105 [==============================] - 16s 152ms/step - loss: 0.0616 - accuracy: 0.9841 - val_loss: 0.0818 - val_accuracy: 0.9830 - lr: 0.0010\n",
      "Epoch 31/999\n",
      "105/105 [==============================] - 16s 153ms/step - loss: 0.0734 - accuracy: 0.9847 - val_loss: 0.0708 - val_accuracy: 0.9842 - lr: 0.0010\n",
      "Epoch 32/999\n",
      "105/105 [==============================] - 17s 159ms/step - loss: 0.0604 - accuracy: 0.9865 - val_loss: 0.0467 - val_accuracy: 0.9903 - lr: 0.0010\n",
      "Epoch 33/999\n",
      "105/105 [==============================] - 17s 160ms/step - loss: 0.0561 - accuracy: 0.9862 - val_loss: 0.0638 - val_accuracy: 0.9879 - lr: 0.0010\n",
      "Epoch 34/999\n",
      "105/105 [==============================] - 17s 159ms/step - loss: 0.0590 - accuracy: 0.9880 - val_loss: 0.0531 - val_accuracy: 0.9903 - lr: 0.0010\n",
      "Epoch 35/999\n",
      "105/105 [==============================] - 17s 159ms/step - loss: 0.0457 - accuracy: 0.9898 - val_loss: 0.1102 - val_accuracy: 0.9709 - lr: 0.0010\n",
      "Epoch 36/999\n",
      "105/105 [==============================] - 17s 159ms/step - loss: 0.0431 - accuracy: 0.9928 - val_loss: 0.0498 - val_accuracy: 0.9903 - lr: 0.0010\n",
      "Epoch 37/999\n",
      "105/105 [==============================] - ETA: 0s - loss: 0.0250 - accuracy: 0.9982\n",
      "Epoch 37: ReduceLROnPlateau reducing learning rate to 0.00010000000474974513.\n",
      "105/105 [==============================] - 16s 154ms/step - loss: 0.0250 - accuracy: 0.9982 - val_loss: 0.0664 - val_accuracy: 0.9854 - lr: 0.0010\n",
      "Epoch 38/999\n",
      "105/105 [==============================] - 16s 152ms/step - loss: 0.0268 - accuracy: 0.9958 - val_loss: 0.0271 - val_accuracy: 0.9964 - lr: 1.0000e-04\n",
      "Epoch 39/999\n",
      "105/105 [==============================] - 16s 152ms/step - loss: 0.0198 - accuracy: 0.9991 - val_loss: 0.0251 - val_accuracy: 0.9976 - lr: 1.0000e-04\n",
      "Epoch 40/999\n",
      "105/105 [==============================] - 16s 151ms/step - loss: 0.0216 - accuracy: 0.9982 - val_loss: 0.0354 - val_accuracy: 0.9939 - lr: 1.0000e-04\n",
      "Epoch 41/999\n",
      "105/105 [==============================] - 16s 154ms/step - loss: 0.0183 - accuracy: 1.0000 - val_loss: 0.0436 - val_accuracy: 0.9927 - lr: 1.0000e-04\n",
      "Epoch 42/999\n",
      "105/105 [==============================] - 17s 160ms/step - loss: 0.0205 - accuracy: 0.9991 - val_loss: 0.0366 - val_accuracy: 0.9976 - lr: 1.0000e-04\n",
      "Epoch 43/999\n",
      "105/105 [==============================] - 17s 164ms/step - loss: 0.0196 - accuracy: 0.9991 - val_loss: 0.0210 - val_accuracy: 0.9976 - lr: 1.0000e-04\n",
      "Epoch 44/999\n",
      "105/105 [==============================] - 17s 159ms/step - loss: 0.0208 - accuracy: 0.9991 - val_loss: 0.0307 - val_accuracy: 0.9939 - lr: 1.0000e-04\n",
      "Epoch 45/999\n",
      "105/105 [==============================] - 17s 159ms/step - loss: 0.0183 - accuracy: 1.0000 - val_loss: 0.0199 - val_accuracy: 0.9988 - lr: 1.0000e-04\n",
      "Epoch 46/999\n",
      "105/105 [==============================] - 17s 157ms/step - loss: 0.0182 - accuracy: 0.9997 - val_loss: 0.0289 - val_accuracy: 0.9964 - lr: 1.0000e-04\n",
      "Epoch 47/999\n",
      "105/105 [==============================] - 16s 153ms/step - loss: 0.0184 - accuracy: 0.9994 - val_loss: 0.0432 - val_accuracy: 0.9939 - lr: 1.0000e-04\n",
      "Epoch 48/999\n",
      "105/105 [==============================] - 16s 152ms/step - loss: 0.0180 - accuracy: 1.0000 - val_loss: 0.0299 - val_accuracy: 0.9951 - lr: 1.0000e-04\n",
      "Epoch 49/999\n",
      "105/105 [==============================] - 16s 151ms/step - loss: 0.0202 - accuracy: 0.9985 - val_loss: 0.0219 - val_accuracy: 0.9988 - lr: 1.0000e-04\n",
      "Epoch 50/999\n",
      "105/105 [==============================] - 16s 151ms/step - loss: 0.0178 - accuracy: 0.9997 - val_loss: 0.0254 - val_accuracy: 0.9964 - lr: 1.0000e-04\n",
      "Epoch 51/999\n",
      "105/105 [==============================] - 16s 152ms/step - loss: 0.0172 - accuracy: 1.0000 - val_loss: 0.0231 - val_accuracy: 0.9976 - lr: 1.0000e-04\n",
      "Epoch 52/999\n",
      "105/105 [==============================] - 17s 158ms/step - loss: 0.0191 - accuracy: 0.9994 - val_loss: 0.0216 - val_accuracy: 0.9988 - lr: 1.0000e-04\n",
      "Epoch 53/999\n",
      "105/105 [==============================] - ETA: 0s - loss: 0.0174 - accuracy: 1.0000\n",
      "Epoch 53: ReduceLROnPlateau reducing learning rate to 1.0000000474974514e-05.\n",
      "105/105 [==============================] - 17s 158ms/step - loss: 0.0174 - accuracy: 1.0000 - val_loss: 0.0284 - val_accuracy: 0.9951 - lr: 1.0000e-04\n",
      "Epoch 54/999\n",
      "105/105 [==============================] - 17s 159ms/step - loss: 0.0169 - accuracy: 1.0000 - val_loss: 0.0208 - val_accuracy: 0.9988 - lr: 1.0000e-05\n",
      "Epoch 55/999\n",
      "105/105 [==============================] - 17s 159ms/step - loss: 0.0178 - accuracy: 0.9997 - val_loss: 0.0364 - val_accuracy: 0.9964 - lr: 1.0000e-05\n",
      "Epoch 56/999\n",
      "105/105 [==============================] - 17s 158ms/step - loss: 0.0175 - accuracy: 0.9997 - val_loss: 0.0341 - val_accuracy: 0.9964 - lr: 1.0000e-05\n",
      "Epoch 57/999\n",
      "105/105 [==============================] - 16s 151ms/step - loss: 0.0169 - accuracy: 1.0000 - val_loss: 0.0349 - val_accuracy: 0.9951 - lr: 1.0000e-05\n",
      "Epoch 58/999\n",
      "105/105 [==============================] - 16s 151ms/step - loss: 0.0169 - accuracy: 1.0000 - val_loss: 0.0408 - val_accuracy: 0.9939 - lr: 1.0000e-05\n",
      "Epoch 59/999\n",
      "105/105 [==============================] - 16s 152ms/step - loss: 0.0174 - accuracy: 1.0000 - val_loss: 0.0290 - val_accuracy: 0.9964 - lr: 1.0000e-05\n",
      "Epoch 60/999\n",
      "105/105 [==============================] - 16s 152ms/step - loss: 0.0169 - accuracy: 1.0000 - val_loss: 0.0212 - val_accuracy: 0.9976 - lr: 1.0000e-05\n",
      "Epoch 61/999\n",
      "105/105 [==============================] - ETA: 0s - loss: 0.0168 - accuracy: 1.0000\n",
      "Epoch 61: ReduceLROnPlateau reducing learning rate to 1.0000000656873453e-06.\n",
      "105/105 [==============================] - 16s 152ms/step - loss: 0.0168 - accuracy: 1.0000 - val_loss: 0.0274 - val_accuracy: 0.9964 - lr: 1.0000e-05\n",
      "Epoch 62/999\n",
      "105/105 [==============================] - 16s 152ms/step - loss: 0.0170 - accuracy: 0.9997 - val_loss: 0.0220 - val_accuracy: 0.9976 - lr: 1.0000e-06\n",
      "Epoch 63/999\n",
      "105/105 [==============================] - 16s 151ms/step - loss: 0.0169 - accuracy: 1.0000 - val_loss: 0.0223 - val_accuracy: 0.9988 - lr: 1.0000e-06\n",
      "Epoch 64/999\n",
      "105/105 [==============================] - 16s 155ms/step - loss: 0.0169 - accuracy: 1.0000 - val_loss: 0.0331 - val_accuracy: 0.9964 - lr: 1.0000e-06\n",
      "Epoch 65/999\n",
      "105/105 [==============================] - 17s 162ms/step - loss: 0.0168 - accuracy: 1.0000 - val_loss: 0.0240 - val_accuracy: 0.9964 - lr: 1.0000e-06\n",
      "Epoch 65: early stopping\n"
     ]
    },
    {
     "data": {
      "image/png": "[encoded data removed]",
      "text/plain": [
       "<Figure size 1000x500 with 2 Axes>"
      ]
     },
     "metadata": {},
     "output_type": "display_data"
    }
   ],
   "source": [
    "train_generator, val_generator = load_data(image_size)\n",
    "\n",
    "with tf.device('/GPU:0'):\n",
    "    try:\n",
    "        load_model(model_path)\n",
    "    except:\n",
    "        print('Could not find checkpoint, creating new model')\n",
    "        hist = make_model(train_generator, \n",
    "                          val_generator,\n",
    "                          len(elements),\n",
    "                          image_size)\n",
    "        show_losses(hist)"
   ]
  },
  {
   "attachments": {},
   "cell_type": "markdown",
   "metadata": {},
   "source": [
    "### Integer To ASCII(Char)"
   ]
  },
  {
   "cell_type": "code",
   "execution_count": 230,
   "metadata": {},
   "outputs": [],
   "source": [
    "def itoa(num):\n",
    "    if num == 26:\n",
    "        return  ' '\n",
    "    else:\n",
    "        num_tr = num+97\n",
    "        return chr(num_tr)"
   ]
  },
  {
   "attachments": {},
   "cell_type": "markdown",
   "metadata": {},
   "source": [
    "### Predict"
   ]
  },
  {
   "cell_type": "code",
   "execution_count": 231,
   "metadata": {},
   "outputs": [],
   "source": [
    "def predict(model, image_name):\n",
    "    # 이미지 쪼개기\n",
    "    length = divide_image(image_name)\n",
    "    result = ''\n",
    "\n",
    "    generator = ImageDataGenerator()\n",
    "    image_path = data_path + 'tmp/'\n",
    "\n",
    "    for i in range(length):\n",
    "        # 쪼갠 이미지 불러오기\n",
    "        data = generator.flow_from_directory(image_path + str(i), \n",
    "                                             target_size=(image_size, image_size))\n",
    "    \n",
    "        # Predict\n",
    "        prediction = model.predict(data)[0]\n",
    "\n",
    "        # 결과 가져오기\n",
    "        predict_idx = np.argmax(prediction)\n",
    "        predict_val = prediction[predict_idx]\n",
    "        result += itoa(predict_idx)\n",
    "        \n",
    "        print('Best prediction:', predict_val, itoa(predict_idx))\n",
    "\n",
    "    print('\\nResult:', result)\n",
    "    remove_tmp_imgs()"
   ]
  },
  {
   "attachments": {},
   "cell_type": "markdown",
   "metadata": {},
   "source": [
    "### Model 불러오기"
   ]
  },
  {
   "cell_type": "code",
   "execution_count": 232,
   "metadata": {},
   "outputs": [
    {
     "name": "stderr",
     "output_type": "stream",
     "text": [
      "2023-06-02 22:26:07.077132: I tensorflow/core/common_runtime/executor.cc:1197] [/device:CPU:0] (DEBUG INFO) Executor start aborting (this does not indicate an error and you can ignore this message): INVALID_ARGUMENT: You must feed a value for placeholder tensor 'Placeholder/_0' with dtype int32\n",
      "\t [[{{node Placeholder/_0}}]]\n",
      "2023-06-02 22:26:07.323293: I tensorflow/core/grappler/optimizers/custom_graph_optimizer_registry.cc:114] Plugin optimizer for device_type GPU is enabled.\n"
     ]
    },
    {
     "name": "stdout",
     "output_type": "stream",
     "text": [
      "26/26 [==============================] - 2s 47ms/step - loss: 0.0281 - accuracy: 0.9964\n",
      "Model accuracy: 1.00\n"
     ]
    }
   ],
   "source": [
    "model = load_model(model_path)\n",
    "acc = model.evaluate(val_generator)[1]\n",
    "print('Model accuracy: %.2f' % acc)"
   ]
  },
  {
   "attachments": {},
   "cell_type": "markdown",
   "metadata": {},
   "source": [
    "### Predict Image"
   ]
  },
  {
   "cell_type": "code",
   "execution_count": 233,
   "metadata": {},
   "outputs": [
    {
     "name": "stdout",
     "output_type": "stream",
     "text": [
      "Found 1 images belonging to 1 classes.\n"
     ]
    },
    {
     "name": "stderr",
     "output_type": "stream",
     "text": [
      "2023-06-02 22:26:08.996970: I tensorflow/core/common_runtime/executor.cc:1197] [/device:CPU:0] (DEBUG INFO) Executor start aborting (this does not indicate an error and you can ignore this message): INVALID_ARGUMENT: You must feed a value for placeholder tensor 'Placeholder/_0' with dtype int32\n",
      "\t [[{{node Placeholder/_0}}]]\n",
      "2023-06-02 22:26:09.113279: I tensorflow/core/grappler/optimizers/custom_graph_optimizer_registry.cc:114] Plugin optimizer for device_type GPU is enabled.\n"
     ]
    },
    {
     "name": "stdout",
     "output_type": "stream",
     "text": [
      "1/1 [==============================] - 0s 377ms/step\n",
      "Best prediction: 1.0 h\n",
      "Found 1 images belonging to 1 classes.\n",
      "1/1 [==============================] - 0s 61ms/step\n",
      "Best prediction: 1.0 e\n",
      "Found 1 images belonging to 1 classes.\n"
     ]
    },
    {
     "name": "stderr",
     "output_type": "stream",
     "text": [
      "2023-06-02 22:26:09.460036: I tensorflow/core/common_runtime/executor.cc:1197] [/device:CPU:0] (DEBUG INFO) Executor start aborting (this does not indicate an error and you can ignore this message): INVALID_ARGUMENT: You must feed a value for placeholder tensor 'Placeholder/_0' with dtype int32\n",
      "\t [[{{node Placeholder/_0}}]]\n",
      "2023-06-02 22:26:09.610473: I tensorflow/core/common_runtime/executor.cc:1197] [/device:CPU:0] (DEBUG INFO) Executor start aborting (this does not indicate an error and you can ignore this message): INVALID_ARGUMENT: You must feed a value for placeholder tensor 'Placeholder/_0' with dtype int32\n",
      "\t [[{{node Placeholder/_0}}]]\n"
     ]
    },
    {
     "name": "stdout",
     "output_type": "stream",
     "text": [
      "1/1 [==============================] - 0s 63ms/step\n",
      "Best prediction: 0.99998236 l\n",
      "Found 1 images belonging to 1 classes.\n",
      "1/1 [==============================] - 0s 71ms/step\n",
      "Best prediction: 0.99985325 l\n",
      "\n",
      "Result: hell\n"
     ]
    },
    {
     "name": "stderr",
     "output_type": "stream",
     "text": [
      "2023-06-02 22:26:09.768016: I tensorflow/core/common_runtime/executor.cc:1197] [/device:CPU:0] (DEBUG INFO) Executor start aborting (this does not indicate an error and you can ignore this message): INVALID_ARGUMENT: You must feed a value for placeholder tensor 'Placeholder/_0' with dtype int32\n",
      "\t [[{{node Placeholder/_0}}]]\n"
     ]
    }
   ],
   "source": [
    "predict(model, 'hell.png')"
   ]
  },
  {
   "cell_type": "code",
   "execution_count": null,
   "metadata": {},
   "outputs": [],
   "source": []
  }
 ],
 "metadata": {
  "kernelspec": {
   "display_name": "tensorflow_venv.nosync",
   "language": "python",
   "name": "python3"
  },
  "language_info": {
   "codemirror_mode": {
    "name": "ipython",
    "version": 3
   },
   "file_extension": ".py",
   "mimetype": "text/x-python",
   "name": "python",
   "nbconvert_exporter": "python",
   "pygments_lexer": "ipython3",
   "version": "3.10.11"
  },
  "orig_nbformat": 4
 },
 "nbformat": 4,
 "nbformat_minor": 2
}
